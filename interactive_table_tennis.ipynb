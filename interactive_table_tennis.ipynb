{
 "cells": [
  {
   "cell_type": "markdown",
   "metadata": {},
   "source": "# Interactive Table Tennis Simulation"
  },
  {
   "cell_type": "code",
   "execution_count": null,
   "metadata": {},
   "outputs": [],
   "source": [
    "import ipywidgets as widgets\n",
    "from IPython.display import display, clear_output, Video\n",
    "import table_tennis_simulation as tts\n",
    "\n",
    "pos_x = widgets.FloatSlider(value=0, min=-500, max=500, step=10, description='pos_x')\n",
    "pos_y = widgets.FloatSlider(value=tts.TABLE_WIDTH*4/8, min=0, max=tts.TABLE_WIDTH, step=10, description='pos_y')\n",
    "pos_z = widgets.FloatSlider(value=tts.TABLE_HEIGHT + 2*tts.NET_HEIGHT, min=tts.TABLE_HEIGHT, max=tts.TABLE_HEIGHT+300, step=10, description='pos_z')\n",
    "vel_x = widgets.FloatSlider(value=7000, min=-10000, max=10000, step=100, description='vel_x')\n",
    "vel_y = widgets.FloatSlider(value=-3000, min=-10000, max=10000, step=100, description='vel_y')\n",
    "vel_z = widgets.FloatSlider(value=-3000, min=-10000, max=10000, step=100, description='vel_z')\n",
    "omega_z = widgets.FloatSlider(value=75, min=-100, max=100, step=1, description='spin_z')\n",
    "\n",
    "run_btn = widgets.Button(description='Run')\n",
    "save_btn = widgets.Button(description='Save MP4')\n",
    "out = widgets.Output()\n",
    "\n",
    "def build_ic():\n",
    "    return tts.InitialConditions(\n",
    "        pos=(pos_x.value, pos_y.value, pos_z.value),\n",
    "        vel=(vel_x.value, vel_y.value, vel_z.value),\n",
    "        omega=(0.0, 0.0, omega_z.value*2*tts.np.pi),\n",
    "    )\n",
    "\n",
    "def on_run(_):\n",
    "    ic = build_ic()\n",
    "    result = tts.simulate(ic)\n",
    "    with out:\n",
    "        clear_output(wait=True)\n",
    "        tts.animate_simulation(result)\n",
    "\n",
    "def on_save(_):\n",
    "    ic = build_ic()\n",
    "    result = tts.simulate(ic)\n",
    "    tts.animate_simulation(result, save='simulation.mp4')\n",
    "    with out:\n",
    "        clear_output(wait=True)\n",
    "        display(Video('simulation.mp4'))\n",
    "\n",
    "run_btn.on_click(on_run)\n",
    "save_btn.on_click(on_save)\n",
    "\n",
    "ui = widgets.VBox([\n",
    "    pos_x, pos_y, pos_z,\n",
    "    vel_x, vel_y, vel_z,\n",
    "    omega_z,\n",
    "    widgets.HBox([run_btn, save_btn]),\n",
    "    out\n",
    "])\n",
    "\n",
    "display(ui)\n"
   ]
  }
 ],
 "metadata": {
  "kernelspec": {
   "display_name": "Python 3",
   "language": "python",
   "name": "python3"
  },
  "language_info": {
   "name": "python",
   "pygments_lexer": "ipython3"
  }
 },
 "nbformat": 4,
 "nbformat_minor": 4
}
